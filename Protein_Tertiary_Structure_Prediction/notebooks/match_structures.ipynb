{
 "cells": [
  {
   "cell_type": "code",
   "execution_count": 1,
   "metadata": {},
   "outputs": [],
   "source": [
    "import os\n",
    "import numpy as np\n",
    "import pandas as pd\n",
    "import Bio as bp\n",
    "import Levenshtein as lev # requires 'pip install python-Levenshtein'\n",
    "import matplotlib.pyplot as plt\n",
    "\n",
    "# get training and test data\n",
    "train_df = pd.read_csv('../train_input.csv')\n",
    "test_df = pd.read_csv('../test_input.csv')"
   ]
  },
  {
   "cell_type": "code",
   "execution_count": 2,
   "metadata": {},
   "outputs": [],
   "source": [
    "# aa and q8 sequences\n",
    "aa_tr, q8_tr = train_df[['sequence', 'q8']].values.T\n",
    "aa_te, q8_te = test_df[['sequence', 'q8']].values.T\n",
    "\n",
    "# load the training targets for pasting matches\n",
    "maxlen_seq = max(train_df['length'].values.max(), test_df['length'].values.max())\n",
    "train_target_arrs = np.load('../train_output.npz')\n",
    "seq_len = train_df['length'].values\n",
    "train_target_data = np.zeros((len(train_df), maxlen_seq, maxlen_seq))\n",
    "for i in range(len(train_df)):\n",
    "    train_target_data[i, :seq_len[i], :seq_len[i]] = train_target_arrs['arr_' + str(i)]"
   ]
  },
  {
   "cell_type": "code",
   "execution_count": 3,
   "metadata": {},
   "outputs": [],
   "source": [
    "# amino acid database \n",
    "with open('aa_db.fasta', 'w+') as out:\n",
    "    for i in range(len(aa_tr)):\n",
    "        out.write('>' + str(i) + '\\n' + aa_tr[i] + '\\n')\n",
    "# and query list        \n",
    "with open('aa_query.fasta', 'w+') as out:\n",
    "    for i in range(len(aa_te)):\n",
    "        out.write('>' + str(i) + '\\n' + aa_te[i] + '\\n')\n",
    "        \n",
    "# In the command line run:\n",
    "# makeblastdb -in aa_db.fasta -dbtype prot -out aadb \n",
    "# blastp -db aadb -query aa_query.fasta -out aa_match.txt\n",
    "# in order to set up the local database and find matches in AA\n",
    "# tried running these through os.system('[call]') but returned error\n",
    "#     (probably a python2 problem lmao)"
   ]
  },
  {
   "cell_type": "code",
   "execution_count": null,
   "metadata": {},
   "outputs": [],
   "source": [
    "# q8 database \n",
    "with open('q8_db.fasta', 'w+') as out:\n",
    "    for i in range(len(q8_tr)):\n",
    "        seq = '>' + str(i) + '\\n' + q8_tr[i] + '\\n'\n",
    "        seq = seq.replace('B', 'C') ## B is not a valid character in BLAST, so use a substitution\n",
    "        out.write('>' + str(i) + '\\n' + q8_tr[i] + '\\n')\n",
    "# and query list        \n",
    "with open('q8_query.fasta', 'w+') as out:\n",
    "    for i in range(len(q8_te)):\n",
    "        seq = '>' + str(i) + '\\n' + q8_te[i] + '\\n'\n",
    "        seq = seq.replace('B', 'C') ## B is not a valid character in BLAST, so use a substitution\n",
    "        out.write('>' + str(i) + '\\n' + q8_te[i] + '\\n')\n",
    "        \n",
    "# In the command line run:\n",
    "# makeblastdb -in q8_db.fasta -dbtype prot -out q8db \n",
    "# blastp -db q8db -query q8_query.fasta -out q8_match.txt\n",
    "# in order to set up the local database and find matches in Q8\n",
    "# this blast search takes much longer to run"
   ]
  },
  {
   "cell_type": "code",
   "execution_count": 11,
   "metadata": {},
   "outputs": [],
   "source": [
    "''' \n",
    "- reads in matches from blast outfile\n",
    "- alignments[i] will contain matches of query_i in the training set\n",
    "- the matches are an array of size num_matches x 5\n",
    "- each match has form (query_idx_start, query_idx_end, match, match_idx_start, match_idx end)\n",
    "'''\n",
    "def get_alignments(match_file):\n",
    "    alignments = {}\n",
    "    query_alignments = None\n",
    "    with open(match_file, 'r') as f:\n",
    "        line = f.readline()\n",
    "        while line:\n",
    "            # matches for one query\n",
    "            if 'Query=' in line:\n",
    "                if query_alignments: # dump the alignments from the previous query\n",
    "                    alignments[query] = np.array(query_alignments)\n",
    "                query = int(line.split(' ')[-1]) # get the new query number\n",
    "                query_alignments = [] # reset alignments\n",
    "            # record a training sequence that has match(es) with the query\n",
    "            elif '>' in line: # get matching sequence\n",
    "                match = int(line.split(' ')[-1])\n",
    "            # record the indices of the match\n",
    "            elif 'Query ' in line: # get the alignment\n",
    "                q = list(filter(None, line.split(' '))) # start idx is 1, end idx is -1\n",
    "                f.readline(); line = f.readline()\n",
    "                m = list(filter(None, line.split(' '))) # start idx is 1, end idx is -1\n",
    "                align = [int(q[1])-1, int(q[-1]), match, int(m[1])-1, int(m[-1])]\n",
    "                query_alignments.append(align)\n",
    "            line = f.readline()\n",
    "        alignments[query] = np.array(query_alignments) # dump final query alignments\n",
    "    return alignments"
   ]
  },
  {
   "cell_type": "code",
   "execution_count": 31,
   "metadata": {},
   "outputs": [],
   "source": [
    "'''\n",
    "-Takes matches in the aa or q8 sequences\n",
    "-If the levenshtein distance between them is in fact relatively small, \n",
    "    save the corresponding inter-residue distances \n",
    "'''\n",
    "def get_stitches(alignments):\n",
    "    stitches = np.zeros((len(test_df), maxlen_seq, maxlen_seq))\n",
    "    seq_len = test_df['length'].values\n",
    "\n",
    "    for i in range(len(test_df)):\n",
    "        if i not in alignments.keys(): # matches not found for all sequences\n",
    "            continue\n",
    "        al = alignments[i] # load up the alignments for the current test ex\n",
    "        good_als = []\n",
    "        lev_dists = []\n",
    "        for a in al:\n",
    "            query_q8 = q8_te[0][a[0]:a[1]]\n",
    "            match_q8 = q8_tr[a[2]][a[3]:a[4]]\n",
    "            length = a[1] - a[0]\n",
    "            d = lev.distance(query_q8, match_q8) # compare the q8 segments corresponding to this match\n",
    "            if d > length/2.: # skip matches with large q8 distances; consider removing this; will test when GAN is trained\n",
    "                continue\n",
    "            good_als.append(a)\n",
    "            lev_dists.append(d)\n",
    "\n",
    "        # sort the good matches by the Levenshtein difference of q8\n",
    "        lev_dists = np.array(lev_dists)\n",
    "        ordered_a = np.argsort(-lev_dists)\n",
    "\n",
    "        # that way best matches are pasted over the top\n",
    "        for idx in ordered_a:\n",
    "            a = good_als[idx]\n",
    "            length = a[1] - a[0]\n",
    "            stitches[i, a[0]:a[1], a[0]:a[1]] = train_target_data[a[2], a[3]:a[3]+length, a[3]:a[3]+length]\n",
    "    return stitches"
   ]
  },
  {
   "cell_type": "code",
   "execution_count": 41,
   "metadata": {},
   "outputs": [
    {
     "data": {
      "text/plain": [
       "<matplotlib.image.AxesImage at 0x559aaafd0>"
      ]
     },
     "execution_count": 41,
     "metadata": {},
     "output_type": "execute_result"
    },
    {
     "data": {
      "image/png": "[encoded data removed]",
      "text/plain": [
       "<Figure size 432x288 with 1 Axes>"
      ]
     },
     "metadata": {
      "needs_background": "light"
     },
     "output_type": "display_data"
    }
   ],
   "source": [
    "alignments_aa = get_alignments('aa_match.txt')\n",
    "stitches_aa = get_stitches(alignments_aa)\n",
    "# example:\n",
    "plt.imshow(((255/stitches_aa[0].max()) * stitches_aa[0])[:116,:116], aspect=1)"
   ]
  },
  {
   "cell_type": "code",
   "execution_count": 42,
   "metadata": {},
   "outputs": [
    {
     "data": {
      "text/plain": [
       "<matplotlib.image.AxesImage at 0x559bb0c50>"
      ]
     },
     "execution_count": 42,
     "metadata": {},
     "output_type": "execute_result"
    },
    {
     "data": {
      "image/png": "[encoded data removed]",
      "text/plain": [
       "<Figure size 432x288 with 1 Axes>"
      ]
     },
     "metadata": {
      "needs_background": "light"
     },
     "output_type": "display_data"
    }
   ],
   "source": [
    "alignments_q8 = get_alignments('q8_match.txt')\n",
    "stitches_q8 = get_stitches(alignments_q8)\n",
    "# example:\n",
    "plt.imshow(((255/stitches_q8[16].max()) * stitches_q8[213])[:70,:70], aspect=1)"
   ]
  },
  {
   "cell_type": "code",
   "execution_count": 47,
   "metadata": {},
   "outputs": [
    {
     "data": {
      "text/plain": [
       "221"
      ]
     },
     "execution_count": 47,
     "metadata": {},
     "output_type": "execute_result"
    }
   ],
   "source": [
    "# Note that all but three queries produced matches. However, it remains to be quantified \n",
    "# how many matches in the aa sequence lead to good matches in the q8 segments. \n",
    "# doing so might be a good metric to guage how the utility of this approach\n",
    "len(alignments_aa)"
   ]
  },
  {
   "cell_type": "code",
   "execution_count": 48,
   "metadata": {},
   "outputs": [
    {
     "data": {
      "text/plain": [
       "17"
      ]
     },
     "execution_count": 48,
     "metadata": {},
     "output_type": "execute_result"
    }
   ],
   "source": [
    "# It should be noted that very few queries between q8 sequences had matches let alone good ones\n",
    "len(alignments_q8)\n",
    "# It is very unclear to me why this should be the case, and I cannot help but feel the BLAST function\n",
    "# is optimized assuming amino acid character names, hence the lack of matches that are returned despite knowing\n",
    "# that many exist, given outputs of aa matches"
   ]
  },
  {
   "cell_type": "markdown",
   "metadata": {},
   "source": [
    "The behavior of the Q8 matches as outlined above is unexpected and needs thorough investigation. Let me know if you disagree.\n",
    "\n",
    "Another thing, this method is slightly limiting because it can only copy distances into squares about the diagonal. One thing that should definitely be looked into is constructing the Q8 matrices that Iddo showed us. Perhaps this will allow us to paste squares elsewhere in matrix.\n",
    "\n",
    "A final point, perhaps you can write an additional function which takes matches from aa and q8 and copies the distances corresponding to all good matches from both sets. It would also be interesting to see if there is overlap etc."
   ]
  }
 ],
 "metadata": {
  "kernelspec": {
   "display_name": "Python 2",
   "language": "python",
   "name": "python2"
  },
  "language_info": {
   "codemirror_mode": {
    "name": "ipython",
    "version": 2
   },
   "file_extension": ".py",
   "mimetype": "text/x-python",
   "name": "python",
   "nbconvert_exporter": "python",
   "pygments_lexer": "ipython2",
   "version": "2.7.15"
  }
 },
 "nbformat": 4,
 "nbformat_minor": 2
}
